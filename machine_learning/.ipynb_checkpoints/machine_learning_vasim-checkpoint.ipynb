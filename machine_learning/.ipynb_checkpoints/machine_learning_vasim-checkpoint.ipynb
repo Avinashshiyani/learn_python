{
 "cells": [
  {
   "cell_type": "code",
   "execution_count": 1,
   "id": "d7cf5b2e-141e-4a61-902c-d8fe7caf8547",
   "metadata": {},
   "outputs": [],
   "source": [
    "# Name = Vasim Samtani\n",
    "#Roll Number = C - 26\n",
    "import numpy as np"
   ]
  },
  {
   "cell_type": "code",
   "execution_count": 2,
   "id": "d5928e39-baf7-4163-8556-b7275a06b3b7",
   "metadata": {},
   "outputs": [
    {
     "name": "stdout",
     "output_type": "stream",
     "text": [
      "Row vector: [1 2 3 4]\n",
      "Column vector:\n",
      " [[5]\n",
      " [6]\n",
      " [7]\n",
      " [8]]\n"
     ]
    }
   ],
   "source": [
    "# 1\n",
    "vector_row = np.array([1, 2, 3, 4])\n",
    "vector_column = np.array([[5], [6], [7], [8]])\n",
    "print(\"Row vector:\", vector_row)\n",
    "print(\"Column vector:\\n\", vector_column)"
   ]
  },
  {
   "cell_type": "code",
   "execution_count": 3,
   "id": "b8ee166d-dd36-4b06-b24e-5b04a478b6e8",
   "metadata": {},
   "outputs": [
    {
     "name": "stdout",
     "output_type": "stream",
     "text": [
      "3x2 matrix:\n",
      " [[1 2]\n",
      " [3 4]\n",
      " [5 6]]\n",
      "3x3 matrix:\n",
      " [[9 6 7]\n",
      " [7 5 9]\n",
      " [1 8 6]]\n",
      "4x3 matrix:\n",
      " [[1 9 2]\n",
      " [9 2 8]\n",
      " [5 4 9]\n",
      " [6 8 5]]\n"
     ]
    }
   ],
   "source": [
    "# 2\n",
    "matrix_small = np.array([[1, 2], [3, 4], [5, 6]])\n",
    "matrix_square = np.random.randint(1, 10, (3, 3))\n",
    "matrix_large = np.random.randint(1, 10, (4, 3))\n",
    "print(\"3x2 matrix:\\n\", matrix_small)\n",
    "print(\"3x3 matrix:\\n\", matrix_square)\n",
    "print(\"4x3 matrix:\\n\", matrix_large)"
   ]
  },
  {
   "cell_type": "code",
   "execution_count": 4,
   "id": "8ce46a1d-f1eb-45a7-b31e-8f7e1d85aca1",
   "metadata": {},
   "outputs": [
    {
     "name": "stdout",
     "output_type": "stream",
     "text": [
      "First element: 1\n",
      "Last element: 4\n",
      "Second element: 2\n"
     ]
    }
   ],
   "source": [
    "# 3. \n",
    "print(\"First element:\", vector_row[0])\n",
    "print(\"Last element:\", vector_row[-1])\n",
    "print(\"Second element:\", vector_row[1])"
   ]
  },
  {
   "cell_type": "code",
   "execution_count": 5,
   "id": "c6f4ef54-eb57-4b89-b469-ac2403f6c4a1",
   "metadata": {},
   "outputs": [
    {
     "name": "stdout",
     "output_type": "stream",
     "text": [
      "Second row of 3x3 matrix: [7 5 9]\n"
     ]
    }
   ],
   "source": [
    "# 4. \n",
    "print(\"Second row of 3x3 matrix:\", matrix_square[1])"
   ]
  },
  {
   "cell_type": "code",
   "execution_count": 6,
   "id": "8e19b217-aa62-4368-8a71-610b8b5679d1",
   "metadata": {},
   "outputs": [
    {
     "name": "stdout",
     "output_type": "stream",
     "text": [
      "Second column of 3x2 matrix: [2 4 6]\n"
     ]
    }
   ],
   "source": [
    "# 5\n",
    "print(\"Second column of 3x2 matrix:\", matrix_small[:, 1])"
   ]
  },
  {
   "cell_type": "code",
   "execution_count": 7,
   "id": "1c4d04e8-2b34-4795-9c1e-e8e4e106decb",
   "metadata": {},
   "outputs": [
    {
     "name": "stdout",
     "output_type": "stream",
     "text": [
      "Total elements: 9\n",
      "Number of rows: 3\n",
      "Number of columns: 3\n",
      "Dimensions of the matrix: (3, 3)\n"
     ]
    }
   ],
   "source": [
    "# 6. \n",
    "matrix_selected = matrix_square\n",
    "print(\"Total elements:\", matrix_selected.size)\n",
    "print(\"Number of rows:\", matrix_selected.shape[0])\n",
    "print(\"Number of columns:\", matrix_selected.shape[1])\n",
    "print(\"Dimensions of the matrix:\", matrix_selected.shape)"
   ]
  },
  {
   "cell_type": "code",
   "execution_count": 8,
   "id": "efdd3964-e05e-4664-9163-3a0dc9698579",
   "metadata": {},
   "outputs": [
    {
     "name": "stdout",
     "output_type": "stream",
     "text": [
      "Minimum values (row-wise): [6 5 1]\n",
      "Maximum values (column-wise): [9 8 9]\n",
      "Maximum value in matrix: 9\n",
      "Minimum value in matrix: 1\n",
      "Mean of matrix: 6.444444444444445\n",
      "Median of matrix: 7.0\n",
      "Variance of matrix: 5.3580246913580245\n",
      "Standard deviation of matrix: 2.3147407395555177\n"
     ]
    }
   ],
   "source": [
    "# 7-14\n",
    "print(\"Minimum values (row-wise):\", np.min(matrix_selected, axis=1))\n",
    "print(\"Maximum values (column-wise):\", np.max(matrix_selected, axis=0))\n",
    "print(\"Maximum value in matrix:\", np.max(matrix_selected))\n",
    "print(\"Minimum value in matrix:\", np.min(matrix_selected))\n",
    "print(\"Mean of matrix:\", np.mean(matrix_selected))\n",
    "print(\"Median of matrix:\", np.median(matrix_selected))\n",
    "print(\"Variance of matrix:\", np.var(matrix_selected))\n",
    "print(\"Standard deviation of matrix:\", np.std(matrix_selected))"
   ]
  },
  {
   "cell_type": "code",
   "execution_count": 9,
   "id": "1532f442-7cd5-40f8-af9c-735a90933423",
   "metadata": {},
   "outputs": [
    {
     "name": "stdout",
     "output_type": "stream",
     "text": [
      "Rank of the matrix: 3\n"
     ]
    }
   ],
   "source": [
    "# 15.\n",
    "print(\"Rank of the matrix:\", np.linalg.matrix_rank(matrix_selected))"
   ]
  },
  {
   "cell_type": "code",
   "execution_count": 10,
   "id": "9c55642e-1785-42a1-9671-9bdcbb6ce79a",
   "metadata": {},
   "outputs": [
    {
     "name": "stdout",
     "output_type": "stream",
     "text": [
      "Transpose of matrix:\n",
      " [[9 7 1]\n",
      " [6 5 8]\n",
      " [7 9 6]]\n",
      "Diagonal elements: [9 5 6]\n",
      "Sum of diagonal elements: 20\n"
     ]
    }
   ],
   "source": [
    "# 16-18\n",
    "print(\"Transpose of matrix:\\n\", matrix_selected.T)\n",
    "print(\"Diagonal elements:\", np.diagonal(matrix_selected))\n",
    "print(\"Sum of diagonal elements:\", np.trace(matrix_selected))"
   ]
  },
  {
   "cell_type": "code",
   "execution_count": 11,
   "id": "baa57da5-aaf1-4e3e-af35-deecd040326a",
   "metadata": {},
   "outputs": [
    {
     "name": "stdout",
     "output_type": "stream",
     "text": [
      "Matrix multiplied by 5:\n",
      " [[45 30 35]\n",
      " [35 25 45]\n",
      " [ 5 40 30]]\n"
     ]
    }
   ],
   "source": [
    "# 19 \n",
    "print(\"Matrix multiplied by 5:\\n\", matrix_selected * 5)"
   ]
  },
  {
   "cell_type": "code",
   "execution_count": 12,
   "id": "8164596f-9413-4124-bfe3-3e6d2c1ce009",
   "metadata": {},
   "outputs": [
    {
     "name": "stdout",
     "output_type": "stream",
     "text": [
      "4x5 matrix:\n",
      " [[2 5 2 7 8]\n",
      " [7 5 3 1 7]\n",
      " [7 2 4 3 2]\n",
      " [9 3 9 3 8]]\n",
      "1D array: [2 5 2 7 8 7 5 3 1 7 7 2 4 3 2 9 3 9 3 8]\n"
     ]
    }
   ],
   "source": [
    "# 20.\n",
    "matrix_rectangular = np.random.randint(1, 10, (4, 5))\n",
    "print(\"4x5 matrix:\\n\", matrix_rectangular)\n",
    "print(\"1D array:\", matrix_rectangular.flatten())"
   ]
  },
  {
   "cell_type": "code",
   "execution_count": 13,
   "id": "f36ae4f7-6f82-49a4-900a-dfb831bcc9fd",
   "metadata": {},
   "outputs": [
    {
     "name": "stdout",
     "output_type": "stream",
     "text": [
      "Sparse matrix:\n",
      " [[0 0 3]\n",
      " [0 2 0]\n",
      " [1 0 0]]\n",
      "Non-zero values: 3\n",
      "Zero values: 6\n"
     ]
    }
   ],
   "source": [
    "# 21-23 \n",
    "matrix_sparse = np.array([[0, 0, 3], [0, 2, 0], [1, 0, 0]])\n",
    "non_zero_count = np.count_nonzero(matrix_sparse)\n",
    "total_elements_sparse = matrix_sparse.size\n",
    "zero_count = total_elements_sparse - non_zero_count\n",
    "print(\"Sparse matrix:\\n\", matrix_sparse)\n",
    "print(\"Non-zero values:\", non_zero_count)\n",
    "print(\"Zero values:\", zero_count)"
   ]
  },
  {
   "cell_type": "code",
   "execution_count": 14,
   "id": "69f2fcb4-1c5f-4a00-aec4-f6dbd9284665",
   "metadata": {},
   "outputs": [
    {
     "name": "stdout",
     "output_type": "stream",
     "text": [
      "Matrix Alpha:\n",
      " [[8 8 6]\n",
      " [7 6 2]\n",
      " [2 9 9]]\n",
      "Matrix Beta:\n",
      " [[8 4 4]\n",
      " [5 7 4]\n",
      " [1 1 9]]\n",
      "Addition of Alpha and Beta:\n",
      " [[16 12 10]\n",
      " [12 13  6]\n",
      " [ 3 10 18]]\n",
      "Multiplication of Alpha and Beta:\n",
      " [[110  94 118]\n",
      " [ 88  72  70]\n",
      " [ 70  80 125]]\n",
      "Subtraction of Alpha and Beta:\n",
      " [[ 0  4  2]\n",
      " [ 2 -1 -2]\n",
      " [ 1  8  0]]\n"
     ]
    }
   ],
   "source": [
    "# 24.\n",
    "matrix_alpha = np.random.randint(1, 10, (3, 3))\n",
    "matrix_beta = np.random.randint(1, 10, (3, 3))\n",
    "print(\"Matrix Alpha:\\n\", matrix_alpha)\n",
    "print(\"Matrix Beta:\\n\", matrix_beta)\n",
    "print(\"Addition of Alpha and Beta:\\n\", matrix_alpha + matrix_beta)\n",
    "print(\"Multiplication of Alpha and Beta:\\n\", np.dot(matrix_alpha, matrix_beta))\n",
    "print(\"Subtraction of Alpha and Beta:\\n\", matrix_alpha - matrix_beta)"
   ]
  },
  {
   "cell_type": "code",
   "execution_count": 15,
   "id": "74be2f63-f725-44c4-967b-b945109c4ca3",
   "metadata": {},
   "outputs": [
    {
     "name": "stdout",
     "output_type": "stream",
     "text": [
      "Random integers between 50 and 70: [66 60 67 66 69 62 63 57 61 70]\n"
     ]
    }
   ],
   "source": [
    "# 25.\n",
    "random_ints = np.random.randint(50, 71, 10)\n",
    "print(\"Random integers between 50 and 70:\", random_ints)"
   ]
  },
  {
   "cell_type": "code",
   "execution_count": 16,
   "id": "329e21b9-229e-4274-aabc-fb1829909121",
   "metadata": {},
   "outputs": [
    {
     "name": "stdout",
     "output_type": "stream",
     "text": [
      "Random floats between 50 and 70: [51.36939027 50.23177744 67.26224506 52.35515875 60.14193847 52.24999502\n",
      " 54.45791777 51.89952209 58.2988727  69.50497471]\n"
     ]
    }
   ],
   "source": [
    "# 26. Generate ten random floating numbers between 50 and 70\n",
    "random_floats = np.random.uniform(50, 70, 10)\n",
    "print(\"Random floats between 50 and 70:\", random_floats)"
   ]
  }
 ],
 "metadata": {
  "kernelspec": {
   "display_name": "Python 3 (ipykernel)",
   "language": "python",
   "name": "python3"
  },
  "language_info": {
   "codemirror_mode": {
    "name": "ipython",
    "version": 3
   },
   "file_extension": ".py",
   "mimetype": "text/x-python",
   "name": "python",
   "nbconvert_exporter": "python",
   "pygments_lexer": "ipython3",
   "version": "3.10.4"
  }
 },
 "nbformat": 4,
 "nbformat_minor": 5
}
