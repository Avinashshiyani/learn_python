{
 "cells": [
  {
   "cell_type": "code",
   "execution_count": 2,
   "id": "029a9c9e-aacd-4b4b-afc2-01154957d56a",
   "metadata": {},
   "outputs": [],
   "source": [
    "# Avinash Shiyani\n",
    "# C- 36\n",
    "import numpy as np"
   ]
  },
  {
   "cell_type": "code",
   "execution_count": 11,
   "id": "9b251758-af5b-4bf2-8643-dcd193f081c1",
   "metadata": {},
   "outputs": [
    {
     "name": "stdout",
     "output_type": "stream",
     "text": [
      "Row vector: [1 2 3 4]\n",
      "Column vector:\n",
      " [[5]\n",
      " [6]\n",
      " [7]\n",
      " [8]]\n"
     ]
    }
   ],
   "source": [
    "# 1. Create vectors\n",
    "row_vector = np.array([1, 2, 3, 4])  # Row vector\n",
    "column_vector = np.array([[5], [6], [7], [8]])  # Column vector\n",
    "print(\"Row vector:\", row_vector)\n",
    "print(\"Column vector:\\n\", column_vector)"
   ]
  },
  {
   "cell_type": "code",
   "execution_count": 14,
   "id": "c2828f51-5611-4350-96a2-8c757d3e3269",
   "metadata": {},
   "outputs": [
    {
     "name": "stdout",
     "output_type": "stream",
     "text": [
      "3x2 matrix:\n",
      " [[1 2]\n",
      " [3 4]\n",
      " [5 6]]\n",
      "3x3 matrix:\n",
      " [[7 9 2]\n",
      " [5 7 8]\n",
      " [6 8 5]]\n",
      "4x3 matrix:\n",
      " [[1 5 6]\n",
      " [7 5 4]\n",
      " [6 3 1]\n",
      " [5 3 9]]\n"
     ]
    }
   ],
   "source": [
    "# 2. Create matrices\n",
    "matrix_3x2 = np.array([[1, 2], [3, 4], [5, 6]]) \n",
    "matrix_3x3 = np.random.randint(1, 10, (3, 3))\n",
    "matrix_4x3 = np.random.randint(1, 10, (4, 3))  \n",
    "print(\"3x2 matrix:\\n\", matrix_3x2)\n",
    "print(\"3x3 matrix:\\n\", matrix_3x3)\n",
    "print(\"4x3 matrix:\\n\", matrix_4x3)"
   ]
  },
  {
   "cell_type": "code",
   "execution_count": 17,
   "id": "ca74223e-1a3f-4769-8f96-f6a67b10cc24",
   "metadata": {},
   "outputs": [
    {
     "name": "stdout",
     "output_type": "stream",
     "text": [
      "First element: 1\n",
      "Last element: 4\n",
      "Second element: 2\n"
     ]
    }
   ],
   "source": [
    "print(\"First element:\", row_vector[0])\n",
    "print(\"Last element:\", row_vector[-1])\n",
    "print(\"Second element:\", row_vector[1])"
   ]
  },
  {
   "cell_type": "code",
   "execution_count": 19,
   "id": "9691a91b-20de-4e77-b933-748450b80345",
   "metadata": {},
   "outputs": [
    {
     "name": "stdout",
     "output_type": "stream",
     "text": [
      "Second row of 3x3 matrix: [5 7 8]\n"
     ]
    }
   ],
   "source": [
    "# 4. Display second row of any matrix\n",
    "print(\"Second row of 3x3 matrix:\", matrix_3x3[1])"
   ]
  },
  {
   "cell_type": "code",
   "execution_count": 21,
   "id": "5193b735-3124-4fb1-84e6-08b60237896d",
   "metadata": {},
   "outputs": [
    {
     "name": "stdout",
     "output_type": "stream",
     "text": [
      "Total elements: 9\n",
      "Number of rows: 3\n",
      "Number of columns: 3\n",
      "Dimensions of the matrix: (3, 3)\n"
     ]
    }
   ],
   "source": [
    "# 6. Matrix details\n",
    "matrix = matrix_3x3\n",
    "print(\"Total elements:\", matrix.size)\n",
    "print(\"Number of rows:\", matrix.shape[0])\n",
    "print(\"Number of columns:\", matrix.shape[1])\n",
    "print(\"Dimensions of the matrix:\", matrix.shape)"
   ]
  },
  {
   "cell_type": "code",
   "execution_count": 24,
   "id": "1fff6173-70a2-491a-99dd-88782b18598d",
   "metadata": {},
   "outputs": [
    {
     "name": "stdout",
     "output_type": "stream",
     "text": [
      "Minimum values (row-wise): [2 5 5]\n",
      "Maximum values (column-wise): [7 9 8]\n",
      "Maximum value in matrix: 9\n",
      "Minimum value in matrix: 2\n",
      "Mean of matrix: 6.333333333333333\n",
      "Median of matrix: 7.0\n",
      "Variance of matrix: 4.0\n",
      "Standard deviation of matrix: 2.0\n"
     ]
    }
   ],
   "source": [
    "# 7-14. Matrix statistics\n",
    "print(\"Minimum values (row-wise):\", np.min(matrix, axis=1))\n",
    "print(\"Maximum values (column-wise):\", np.max(matrix, axis=0))\n",
    "print(\"Maximum value in matrix:\", np.max(matrix))\n",
    "print(\"Minimum value in matrix:\", np.min(matrix))\n",
    "print(\"Mean of matrix:\", np.mean(matrix))\n",
    "print(\"Median of matrix:\", np.median(matrix))\n",
    "print(\"Variance of matrix:\", np.var(matrix))\n",
    "print(\"Standard deviation of matrix:\", np.std(matrix))"
   ]
  },
  {
   "cell_type": "code",
   "execution_count": 26,
   "id": "72a797a9-3cd3-4184-97fe-91f4e05828c6",
   "metadata": {},
   "outputs": [
    {
     "name": "stdout",
     "output_type": "stream",
     "text": [
      "Rank of the matrix: 2\n"
     ]
    }
   ],
   "source": [
    "# 15. Rank of the matrix\n",
    "print(\"Rank of the matrix:\", np.linalg.matrix_rank(matrix))"
   ]
  },
  {
   "cell_type": "code",
   "execution_count": 28,
   "id": "32633192-6ad3-4388-a82e-31d42a2a24b7",
   "metadata": {},
   "outputs": [
    {
     "name": "stdout",
     "output_type": "stream",
     "text": [
      "Transpose of matrix:\n",
      " [[7 5 6]\n",
      " [9 7 8]\n",
      " [2 8 5]]\n",
      "Diagonal elements: [7 7 5]\n",
      "Sum of diagonal elements: 19\n"
     ]
    }
   ],
   "source": [
    "# 16-18. Matrix transformations\n",
    "print(\"Transpose of matrix:\\n\", matrix.T)\n",
    "print(\"Diagonal elements:\", np.diagonal(matrix))\n",
    "print(\"Sum of diagonal elements:\", np.trace(matrix))"
   ]
  },
  {
   "cell_type": "code",
   "execution_count": 30,
   "id": "83707d92-a8b7-4a66-813b-503c6821efc3",
   "metadata": {},
   "outputs": [
    {
     "name": "stdout",
     "output_type": "stream",
     "text": [
      "Matrix multiplied by 5:\n",
      " [[35 45 10]\n",
      " [25 35 40]\n",
      " [30 40 25]]\n"
     ]
    }
   ],
   "source": [
    "# 19. Multiply 5 with all elements of the matrix\n",
    "print(\"Matrix multiplied by 5:\\n\", matrix * 5)\n"
   ]
  },
  {
   "cell_type": "code",
   "execution_count": 33,
   "id": "9567ec7f-46c5-43e9-ac83-54aa478372db",
   "metadata": {},
   "outputs": [
    {
     "name": "stdout",
     "output_type": "stream",
     "text": [
      "4x5 matrix:\n",
      " [[4 6 4 7 4]\n",
      " [4 8 6 4 5]\n",
      " [6 2 6 4 2]\n",
      " [4 9 2 2 4]]\n",
      "1D array: [4 6 4 7 4 4 8 6 4 5 6 2 6 4 2 4 9 2 2 4]\n"
     ]
    }
   ],
   "source": [
    "# 20. Convert 4x5 matrix to 1D array\n",
    "matrix_4x5 = np.random.randint(1, 10, (4, 5))\n",
    "print(\"4x5 matrix:\\n\", matrix_4x5)\n",
    "print(\"1D array:\", matrix_4x5.flatten())"
   ]
  },
  {
   "cell_type": "code",
   "execution_count": 36,
   "id": "c4a12b03-2650-4627-9115-d5f65474ce3e",
   "metadata": {},
   "outputs": [
    {
     "name": "stdout",
     "output_type": "stream",
     "text": [
      "Sparse matrix:\n",
      " [[0 0 3]\n",
      " [0 2 0]\n",
      " [1 0 0]]\n",
      "Non-zero values: 3\n",
      "Zero values: 6\n"
     ]
    }
   ],
   "source": [
    "# 21-23. Sparse matrix and its details\n",
    "sparse_matrix = np.array([[0, 0, 3], [0, 2, 0], [1, 0, 0]])\n",
    "non_zero = np.count_nonzero(sparse_matrix)\n",
    "total_elements = sparse_matrix.size\n",
    "zero_elements = total_elements - non_zero\n",
    "print(\"Sparse matrix:\\n\", sparse_matrix)\n",
    "print(\"Non-zero values:\", non_zero)\n",
    "print(\"Zero values:\", zero_elements)"
   ]
  },
  {
   "cell_type": "code",
   "execution_count": 39,
   "id": "38de8059-95bf-4484-99a5-ae8d670e0aca",
   "metadata": {},
   "outputs": [
    {
     "name": "stdout",
     "output_type": "stream",
     "text": [
      "Matrix A:\n",
      " [[8 9 1]\n",
      " [8 2 9]\n",
      " [5 6 5]]\n",
      "Matrix B:\n",
      " [[8 3 7]\n",
      " [7 8 3]\n",
      " [5 4 4]]\n",
      "Addition of A and B:\n",
      " [[16 12  8]\n",
      " [15 10 12]\n",
      " [10 10  9]]\n",
      "Multiplication of A and B:\n",
      " [[132 100  87]\n",
      " [123  76  98]\n",
      " [107  83  73]]\n",
      "Subtraction of A and B:\n",
      " [[ 0  6 -6]\n",
      " [ 1 -6  6]\n",
      " [ 0  2  1]]\n"
     ]
    }
   ],
   "source": [
    "matrix_a = np.random.randint(1, 10, (3, 3))\n",
    "matrix_b = np.random.randint(1, 10, (3, 3))\n",
    "print(\"Matrix A:\\n\", matrix_a)\n",
    "print(\"Matrix B:\\n\", matrix_b)\n",
    "print(\"Addition of A and B:\\n\", matrix_a + matrix_b)\n",
    "print(\"Multiplication of A and B:\\n\", np.dot(matrix_a, matrix_b))\n",
    "print(\"Subtraction of A and B:\\n\", matrix_a - matrix_b)"
   ]
  },
  {
   "cell_type": "code",
   "execution_count": 43,
   "id": "c7b6b0ea-c731-4685-8262-c7141d620eaf",
   "metadata": {},
   "outputs": [
    {
     "name": "stdout",
     "output_type": "stream",
     "text": [
      "Random integers between 50 and 70: [53 53 66 65 70 57 58 65 57 69]\n"
     ]
    }
   ],
   "source": [
    "# 25. Generate ten random integer numbers between 50 and 70\n",
    "random_integers = np.random.randint(50, 71, 10)\n",
    "print(\"Random integers between 50 and 70:\", random_integers)"
   ]
  },
  {
   "cell_type": "code",
   "execution_count": 42,
   "id": "50155d5f-e62d-42fc-b053-a0a43983945c",
   "metadata": {},
   "outputs": [
    {
     "name": "stdout",
     "output_type": "stream",
     "text": [
      "Random floats between 50 and 70: [50.98255627 67.88077362 50.47189043 60.52997943 58.05718486 68.25128745\n",
      " 58.54766308 67.17862898 61.0326735  51.04558497]\n"
     ]
    }
   ],
   "source": [
    "# 26. Generate ten random floating numbers between 50 and 70\n",
    "random_floats = np.random.uniform(50, 70, 10)\n",
    "print(\"Random floats between 50 and 70:\", random_floats)"
   ]
  }
 ],
 "metadata": {
  "kernelspec": {
   "display_name": "Python 3 (ipykernel)",
   "language": "python",
   "name": "python3"
  },
  "language_info": {
   "codemirror_mode": {
    "name": "ipython",
    "version": 3
   },
   "file_extension": ".py",
   "mimetype": "text/x-python",
   "name": "python",
   "nbconvert_exporter": "python",
   "pygments_lexer": "ipython3",
   "version": "3.10.4"
  }
 },
 "nbformat": 4,
 "nbformat_minor": 5
}
