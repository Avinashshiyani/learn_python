{
 "cells": [
  {
   "cell_type": "code",
   "execution_count": 52,
   "id": "12fda20c-b900-4120-a9db-9236db6f64cf",
   "metadata": {},
   "outputs": [],
   "source": [
    "# Avinash  Shiyani\n",
    "# c-36\n"
   ]
  },
  {
   "cell_type": "code",
   "execution_count": 53,
   "id": "98a07816-a6cc-4e2e-a61f-ab35b3a9a123",
   "metadata": {},
   "outputs": [],
   "source": [
    "# 1\n",
    "# Create your dataset in CSV file with the following fields.\n",
    "# Rollno, Name, Gender, English, Maths, Science, Category\n",
    "# Insert category values as A, B or C. At least insert 15-20 records with some missing\n",
    "# values in subject marks data and save file as “student_marks.csv”"
   ]
  },
  {
   "cell_type": "code",
   "execution_count": 54,
   "id": "1f672862-8541-4d30-84d1-49b1c7354025",
   "metadata": {},
   "outputs": [
    {
     "name": "stdout",
     "output_type": "stream",
     "text": [
      "    Rollno        Name  Gender  English  Maths  Science Category\n",
      "0        1   Student_1    Male     85.0    NaN     78.0        A\n",
      "1        2   Student_2  Female     78.0   75.0     83.0        C\n",
      "2        3   Student_3    Male      NaN   92.0      NaN        A\n",
      "3        4   Student_4    Male     90.0   85.0     91.0        C\n",
      "4        5   Student_5    Male     88.0   88.0     86.0        C\n",
      "5        6   Student_6  Female      NaN   81.0     89.0        C\n",
      "6        7   Student_7    Male     76.0   77.0      NaN        B\n",
      "7        8   Student_8    Male     80.0    NaN     85.0        B\n",
      "8        9   Student_9  Female      NaN   94.0     93.0        B\n",
      "9       10  Student_10    Male     95.0   91.0      NaN        B\n",
      "10      11  Student_11    Male     82.0    NaN     88.0        C\n",
      "11      12  Student_12    Male     89.0   78.0     84.0        B\n",
      "12      13  Student_13  Female      NaN   88.0     91.0        B\n",
      "13      14  Student_14    Male     77.0   80.0      NaN        C\n",
      "14      15  Student_15    Male     93.0    NaN     80.0        B\n",
      "15      16  Student_16  Female      NaN   95.0     87.0        A\n",
      "16      17  Student_17    Male     85.0   85.0     92.0        B\n",
      "17      18  Student_18    Male     91.0    NaN      NaN        C\n",
      "18      19  Student_19    Male      NaN   92.0     86.0        A\n",
      "19      20  Student_20  Female     87.0   83.0     89.0        B\n"
     ]
    }
   ],
   "source": [
    "# 2\n",
    "# Load the dataset (student_marks.csv) into a pandas DataFrame.\n",
    "# Display information: number of columns, number of records, name of all columns,\n",
    "# Also display the type of dataframe and the type of any single column.\n",
    "\n",
    "import pandas as pd\n",
    "\n",
    "df = pd.read_csv(\"student_marks.csv\")\n",
    "\n",
    "print(df)\n",
    "\n",
    "# pip install pandas"
   ]
  },
  {
   "cell_type": "code",
   "execution_count": 55,
   "id": "ddca3122-79d1-4c81-bdb2-4cb76c555fb8",
   "metadata": {},
   "outputs": [
    {
     "data": {
      "text/html": [
       "<div>\n",
       "<style scoped>\n",
       "    .dataframe tbody tr th:only-of-type {\n",
       "        vertical-align: middle;\n",
       "    }\n",
       "\n",
       "    .dataframe tbody tr th {\n",
       "        vertical-align: top;\n",
       "    }\n",
       "\n",
       "    .dataframe thead th {\n",
       "        text-align: right;\n",
       "    }\n",
       "</style>\n",
       "<table border=\"1\" class=\"dataframe\">\n",
       "  <thead>\n",
       "    <tr style=\"text-align: right;\">\n",
       "      <th></th>\n",
       "      <th>Rollno</th>\n",
       "      <th>Name</th>\n",
       "      <th>Gender</th>\n",
       "      <th>English</th>\n",
       "      <th>Maths</th>\n",
       "      <th>Science</th>\n",
       "      <th>Category</th>\n",
       "    </tr>\n",
       "  </thead>\n",
       "  <tbody>\n",
       "    <tr>\n",
       "      <th>17</th>\n",
       "      <td>18</td>\n",
       "      <td>Student_18</td>\n",
       "      <td>Male</td>\n",
       "      <td>91.0</td>\n",
       "      <td>NaN</td>\n",
       "      <td>NaN</td>\n",
       "      <td>C</td>\n",
       "    </tr>\n",
       "    <tr>\n",
       "      <th>18</th>\n",
       "      <td>19</td>\n",
       "      <td>Student_19</td>\n",
       "      <td>Male</td>\n",
       "      <td>NaN</td>\n",
       "      <td>92.0</td>\n",
       "      <td>86.0</td>\n",
       "      <td>A</td>\n",
       "    </tr>\n",
       "    <tr>\n",
       "      <th>19</th>\n",
       "      <td>20</td>\n",
       "      <td>Student_20</td>\n",
       "      <td>Female</td>\n",
       "      <td>87.0</td>\n",
       "      <td>83.0</td>\n",
       "      <td>89.0</td>\n",
       "      <td>B</td>\n",
       "    </tr>\n",
       "  </tbody>\n",
       "</table>\n",
       "</div>"
      ],
      "text/plain": [
       "    Rollno        Name  Gender  English  Maths  Science Category\n",
       "17      18  Student_18    Male     91.0    NaN      NaN        C\n",
       "18      19  Student_19    Male      NaN   92.0     86.0        A\n",
       "19      20  Student_20  Female     87.0   83.0     89.0        B"
      ]
     },
     "execution_count": 55,
     "metadata": {},
     "output_type": "execute_result"
    }
   ],
   "source": [
    "# 3\n",
    "# Display the first 4 rows of the DataFrame and Display last 3 rows of the DataFrame\n",
    "\n",
    "# show first 4 row\n",
    "df.head(5)\n",
    "\n",
    "# show last 3 row\n",
    "df.tail(3)"
   ]
  },
  {
   "cell_type": "code",
   "execution_count": 56,
   "id": "22ddf3c6-adb8-4b85-ba12-4ef7af4da3aa",
   "metadata": {},
   "outputs": [
    {
     "name": "stdout",
     "output_type": "stream",
     "text": [
      "    Rollno        Name  Science\n",
      "0        1   Student_1     78.0\n",
      "1        2   Student_2     83.0\n",
      "2        3   Student_3      NaN\n",
      "3        4   Student_4     91.0\n",
      "4        5   Student_5     86.0\n",
      "5        6   Student_6     89.0\n",
      "6        7   Student_7      NaN\n",
      "7        8   Student_8     85.0\n",
      "8        9   Student_9     93.0\n",
      "9       10  Student_10      NaN\n",
      "10      11  Student_11     88.0\n",
      "11      12  Student_12     84.0\n",
      "12      13  Student_13     91.0\n",
      "13      14  Student_14      NaN\n",
      "14      15  Student_15     80.0\n",
      "15      16  Student_16     87.0\n",
      "16      17  Student_17     92.0\n",
      "17      18  Student_18      NaN\n",
      "18      19  Student_19     86.0\n",
      "19      20  Student_20     89.0\n"
     ]
    }
   ],
   "source": [
    "# 4\n",
    "# Display student data with Rollno, Name and Science columns only\n",
    "\n",
    "print(df[[\"Rollno\" , \"Name\" , \"Science\"]])\n",
    "# display specific with fields"
   ]
  },
  {
   "cell_type": "code",
   "execution_count": 57,
   "id": "9642e63b-0156-4d30-a57c-20aba6fc6842",
   "metadata": {},
   "outputs": [
    {
     "name": "stdout",
     "output_type": "stream",
     "text": [
      "Total Missing Values per Column:\n",
      "Rollno      0\n",
      "Name        0\n",
      "Gender      0\n",
      "English     6\n",
      "Maths       5\n",
      "Science     5\n",
      "Category    0\n",
      "dtype: int64\n",
      "\n",
      "Missing Values after filling:\n",
      "Rollno      0\n",
      "Name        0\n",
      "Gender      0\n",
      "English     0\n",
      "Maths       0\n",
      "Science     0\n",
      "Category    0\n",
      "dtype: int64\n",
      "\n",
      "Final Missing Values:\n",
      "Rollno      0\n",
      "Name        0\n",
      "Gender      0\n",
      "English     0\n",
      "Maths       0\n",
      "Science     0\n",
      "Category    0\n",
      "dtype: int64\n"
     ]
    },
    {
     "name": "stderr",
     "output_type": "stream",
     "text": [
      "C:\\Users\\Avinash\\AppData\\Local\\Temp\\ipykernel_3368\\2164831097.py:11: FutureWarning: A value is trying to be set on a copy of a DataFrame or Series through chained assignment using an inplace method.\n",
      "The behavior will change in pandas 3.0. This inplace method will never work because the intermediate object on which we are setting values always behaves as a copy.\n",
      "\n",
      "For example, when doing 'df[col].method(value, inplace=True)', try using 'df.method({col: value}, inplace=True)' or df[col] = df[col].method(value) instead, to perform the operation inplace on the original object.\n",
      "\n",
      "\n",
      "  df[column].fillna(df[column].mean(), inplace=True)\n"
     ]
    }
   ],
   "source": [
    "# 5\n",
    "# Display the total number of missing values per column. Fill missing marks with the mean\n",
    "# of the column/subject. Also handle missing values appropriately if exists in any column.\n",
    "# 6. Display student rows with category ‘B’ or ‘C’\n",
    "\n",
    "missing_values_count = df.isnull().sum()\n",
    "print(\"Total Missing Values per Column:\")\n",
    "print(missing_values_count)\n",
    "\n",
    "for column in ['English', 'Maths', 'Science']:\n",
    "    df[column].fillna(df[column].mean(), inplace=True)\n",
    "\n",
    "remaining_missing_values = df.isnull().sum()\n",
    "print(\"\\nMissing Values after filling:\")\n",
    "print(remaining_missing_values)\n",
    "\n",
    "df.fillna({'Name': 'Unknown', 'Category': 'Unknown'}, inplace=True)\n",
    "\n",
    "# Final check for any remaining missing values\n",
    "final_missing_values = df.isnull().sum()\n",
    "print(\"\\nFinal Missing Values:\")\n",
    "print(final_missing_values)"
   ]
  },
  {
   "cell_type": "code",
   "execution_count": 58,
   "id": "a87fe9dc-d901-41fc-b250-bb4c81facadf",
   "metadata": {},
   "outputs": [
    {
     "name": "stdout",
     "output_type": "stream",
     "text": [
      "    Rollno        Name  Gender    English  Maths  Science Category\n",
      "1        2   Student_2  Female  78.000000   75.0     83.0        C\n",
      "3        4   Student_4    Male  90.000000   85.0     91.0        C\n",
      "4        5   Student_5    Male  88.000000   88.0     86.0        C\n",
      "5        6   Student_6  Female  85.428571   81.0     89.0        C\n",
      "6        7   Student_7    Male  76.000000   77.0     86.8        B\n",
      "7        8   Student_8    Male  80.000000   85.6     85.0        B\n",
      "8        9   Student_9  Female  85.428571   94.0     93.0        B\n",
      "9       10  Student_10    Male  95.000000   91.0     86.8        B\n",
      "10      11  Student_11    Male  82.000000   85.6     88.0        C\n",
      "11      12  Student_12    Male  89.000000   78.0     84.0        B\n",
      "12      13  Student_13  Female  85.428571   88.0     91.0        B\n",
      "13      14  Student_14    Male  77.000000   80.0     86.8        C\n",
      "14      15  Student_15    Male  93.000000   85.6     80.0        B\n",
      "16      17  Student_17    Male  85.000000   85.0     92.0        B\n",
      "17      18  Student_18    Male  91.000000   85.6     86.8        C\n",
      "19      20  Student_20  Female  87.000000   83.0     89.0        B\n"
     ]
    }
   ],
   "source": [
    "# 6 . Display student rows with category ‘B’ or ‘C’.\n",
    "filtered_students = df[df['Category'].isin(['B', 'C'])]\n",
    "\n",
    "print(filtered_students)"
   ]
  },
  {
   "cell_type": "code",
   "execution_count": 59,
   "id": "7a3f56a4-5ec5-4785-8801-b99741770095",
   "metadata": {},
   "outputs": [
    {
     "data": {
      "text/html": [
       "<div>\n",
       "<style scoped>\n",
       "    .dataframe tbody tr th:only-of-type {\n",
       "        vertical-align: middle;\n",
       "    }\n",
       "\n",
       "    .dataframe tbody tr th {\n",
       "        vertical-align: top;\n",
       "    }\n",
       "\n",
       "    .dataframe thead th {\n",
       "        text-align: right;\n",
       "    }\n",
       "</style>\n",
       "<table border=\"1\" class=\"dataframe\">\n",
       "  <thead>\n",
       "    <tr style=\"text-align: right;\">\n",
       "      <th></th>\n",
       "      <th>Rollno</th>\n",
       "      <th>Name</th>\n",
       "      <th>Gender</th>\n",
       "      <th>English</th>\n",
       "      <th>Maths</th>\n",
       "      <th>Science</th>\n",
       "      <th>Category</th>\n",
       "    </tr>\n",
       "  </thead>\n",
       "  <tbody>\n",
       "    <tr>\n",
       "      <th>1</th>\n",
       "      <td>2</td>\n",
       "      <td>Student_2</td>\n",
       "      <td>Female</td>\n",
       "      <td>78.000000</td>\n",
       "      <td>75.0</td>\n",
       "      <td>83.0</td>\n",
       "      <td>C</td>\n",
       "    </tr>\n",
       "    <tr>\n",
       "      <th>5</th>\n",
       "      <td>6</td>\n",
       "      <td>Student_6</td>\n",
       "      <td>Female</td>\n",
       "      <td>85.428571</td>\n",
       "      <td>81.0</td>\n",
       "      <td>89.0</td>\n",
       "      <td>C</td>\n",
       "    </tr>\n",
       "    <tr>\n",
       "      <th>8</th>\n",
       "      <td>9</td>\n",
       "      <td>Student_9</td>\n",
       "      <td>Female</td>\n",
       "      <td>85.428571</td>\n",
       "      <td>94.0</td>\n",
       "      <td>93.0</td>\n",
       "      <td>B</td>\n",
       "    </tr>\n",
       "    <tr>\n",
       "      <th>12</th>\n",
       "      <td>13</td>\n",
       "      <td>Student_13</td>\n",
       "      <td>Female</td>\n",
       "      <td>85.428571</td>\n",
       "      <td>88.0</td>\n",
       "      <td>91.0</td>\n",
       "      <td>B</td>\n",
       "    </tr>\n",
       "    <tr>\n",
       "      <th>15</th>\n",
       "      <td>16</td>\n",
       "      <td>Student_16</td>\n",
       "      <td>Female</td>\n",
       "      <td>85.428571</td>\n",
       "      <td>95.0</td>\n",
       "      <td>87.0</td>\n",
       "      <td>A</td>\n",
       "    </tr>\n",
       "    <tr>\n",
       "      <th>19</th>\n",
       "      <td>20</td>\n",
       "      <td>Student_20</td>\n",
       "      <td>Female</td>\n",
       "      <td>87.000000</td>\n",
       "      <td>83.0</td>\n",
       "      <td>89.0</td>\n",
       "      <td>B</td>\n",
       "    </tr>\n",
       "  </tbody>\n",
       "</table>\n",
       "</div>"
      ],
      "text/plain": [
       "    Rollno        Name  Gender    English  Maths  Science Category\n",
       "1        2   Student_2  Female  78.000000   75.0     83.0        C\n",
       "5        6   Student_6  Female  85.428571   81.0     89.0        C\n",
       "8        9   Student_9  Female  85.428571   94.0     93.0        B\n",
       "12      13  Student_13  Female  85.428571   88.0     91.0        B\n",
       "15      16  Student_16  Female  85.428571   95.0     87.0        A\n",
       "19      20  Student_20  Female  87.000000   83.0     89.0        B"
      ]
     },
     "execution_count": 59,
     "metadata": {},
     "output_type": "execute_result"
    }
   ],
   "source": [
    "# 7\n",
    "# Display student rows whose gender is Female.\n",
    "\n",
    "df[df['Gender'].isin([\"Female\"])]"
   ]
  },
  {
   "cell_type": "code",
   "execution_count": 3,
   "id": "e13cbc09-f971-48c9-a07f-c1f5d9c27003",
   "metadata": {},
   "outputs": [
    {
     "data": {
      "text/html": [
       "<div>\n",
       "<style scoped>\n",
       "    .dataframe tbody tr th:only-of-type {\n",
       "        vertical-align: middle;\n",
       "    }\n",
       "\n",
       "    .dataframe tbody tr th {\n",
       "        vertical-align: top;\n",
       "    }\n",
       "\n",
       "    .dataframe thead th {\n",
       "        text-align: right;\n",
       "    }\n",
       "</style>\n",
       "<table border=\"1\" class=\"dataframe\">\n",
       "  <thead>\n",
       "    <tr style=\"text-align: right;\">\n",
       "      <th></th>\n",
       "      <th>Rollno</th>\n",
       "      <th>Name</th>\n",
       "      <th>Gender</th>\n",
       "      <th>English</th>\n",
       "      <th>Maths</th>\n",
       "      <th>Science</th>\n",
       "      <th>Category</th>\n",
       "    </tr>\n",
       "  </thead>\n",
       "  <tbody>\n",
       "    <tr>\n",
       "      <th>6</th>\n",
       "      <td>7</td>\n",
       "      <td>Student_7</td>\n",
       "      <td>Male</td>\n",
       "      <td>76.0</td>\n",
       "      <td>77.0</td>\n",
       "      <td>NaN</td>\n",
       "      <td>B</td>\n",
       "    </tr>\n",
       "    <tr>\n",
       "      <th>13</th>\n",
       "      <td>14</td>\n",
       "      <td>Student_14</td>\n",
       "      <td>Male</td>\n",
       "      <td>77.0</td>\n",
       "      <td>80.0</td>\n",
       "      <td>NaN</td>\n",
       "      <td>C</td>\n",
       "    </tr>\n",
       "    <tr>\n",
       "      <th>1</th>\n",
       "      <td>2</td>\n",
       "      <td>Student_2</td>\n",
       "      <td>Female</td>\n",
       "      <td>78.0</td>\n",
       "      <td>75.0</td>\n",
       "      <td>83.0</td>\n",
       "      <td>C</td>\n",
       "    </tr>\n",
       "    <tr>\n",
       "      <th>7</th>\n",
       "      <td>8</td>\n",
       "      <td>Student_8</td>\n",
       "      <td>Male</td>\n",
       "      <td>80.0</td>\n",
       "      <td>NaN</td>\n",
       "      <td>85.0</td>\n",
       "      <td>B</td>\n",
       "    </tr>\n",
       "    <tr>\n",
       "      <th>10</th>\n",
       "      <td>11</td>\n",
       "      <td>Student_11</td>\n",
       "      <td>Male</td>\n",
       "      <td>82.0</td>\n",
       "      <td>NaN</td>\n",
       "      <td>88.0</td>\n",
       "      <td>C</td>\n",
       "    </tr>\n",
       "    <tr>\n",
       "      <th>0</th>\n",
       "      <td>1</td>\n",
       "      <td>Student_1</td>\n",
       "      <td>Male</td>\n",
       "      <td>85.0</td>\n",
       "      <td>NaN</td>\n",
       "      <td>78.0</td>\n",
       "      <td>A</td>\n",
       "    </tr>\n",
       "    <tr>\n",
       "      <th>16</th>\n",
       "      <td>17</td>\n",
       "      <td>Student_17</td>\n",
       "      <td>Male</td>\n",
       "      <td>85.0</td>\n",
       "      <td>85.0</td>\n",
       "      <td>92.0</td>\n",
       "      <td>B</td>\n",
       "    </tr>\n",
       "    <tr>\n",
       "      <th>19</th>\n",
       "      <td>20</td>\n",
       "      <td>Student_20</td>\n",
       "      <td>Female</td>\n",
       "      <td>87.0</td>\n",
       "      <td>83.0</td>\n",
       "      <td>89.0</td>\n",
       "      <td>B</td>\n",
       "    </tr>\n",
       "    <tr>\n",
       "      <th>4</th>\n",
       "      <td>5</td>\n",
       "      <td>Student_5</td>\n",
       "      <td>Male</td>\n",
       "      <td>88.0</td>\n",
       "      <td>88.0</td>\n",
       "      <td>86.0</td>\n",
       "      <td>C</td>\n",
       "    </tr>\n",
       "    <tr>\n",
       "      <th>11</th>\n",
       "      <td>12</td>\n",
       "      <td>Student_12</td>\n",
       "      <td>Male</td>\n",
       "      <td>89.0</td>\n",
       "      <td>78.0</td>\n",
       "      <td>84.0</td>\n",
       "      <td>B</td>\n",
       "    </tr>\n",
       "    <tr>\n",
       "      <th>3</th>\n",
       "      <td>4</td>\n",
       "      <td>Student_4</td>\n",
       "      <td>Male</td>\n",
       "      <td>90.0</td>\n",
       "      <td>85.0</td>\n",
       "      <td>91.0</td>\n",
       "      <td>C</td>\n",
       "    </tr>\n",
       "    <tr>\n",
       "      <th>17</th>\n",
       "      <td>18</td>\n",
       "      <td>Student_18</td>\n",
       "      <td>Male</td>\n",
       "      <td>91.0</td>\n",
       "      <td>NaN</td>\n",
       "      <td>NaN</td>\n",
       "      <td>C</td>\n",
       "    </tr>\n",
       "    <tr>\n",
       "      <th>14</th>\n",
       "      <td>15</td>\n",
       "      <td>Student_15</td>\n",
       "      <td>Male</td>\n",
       "      <td>93.0</td>\n",
       "      <td>NaN</td>\n",
       "      <td>80.0</td>\n",
       "      <td>B</td>\n",
       "    </tr>\n",
       "    <tr>\n",
       "      <th>9</th>\n",
       "      <td>10</td>\n",
       "      <td>Student_10</td>\n",
       "      <td>Male</td>\n",
       "      <td>95.0</td>\n",
       "      <td>91.0</td>\n",
       "      <td>NaN</td>\n",
       "      <td>B</td>\n",
       "    </tr>\n",
       "    <tr>\n",
       "      <th>2</th>\n",
       "      <td>3</td>\n",
       "      <td>Student_3</td>\n",
       "      <td>Male</td>\n",
       "      <td>NaN</td>\n",
       "      <td>92.0</td>\n",
       "      <td>NaN</td>\n",
       "      <td>A</td>\n",
       "    </tr>\n",
       "    <tr>\n",
       "      <th>5</th>\n",
       "      <td>6</td>\n",
       "      <td>Student_6</td>\n",
       "      <td>Female</td>\n",
       "      <td>NaN</td>\n",
       "      <td>81.0</td>\n",
       "      <td>89.0</td>\n",
       "      <td>C</td>\n",
       "    </tr>\n",
       "    <tr>\n",
       "      <th>8</th>\n",
       "      <td>9</td>\n",
       "      <td>Student_9</td>\n",
       "      <td>Female</td>\n",
       "      <td>NaN</td>\n",
       "      <td>94.0</td>\n",
       "      <td>93.0</td>\n",
       "      <td>B</td>\n",
       "    </tr>\n",
       "    <tr>\n",
       "      <th>12</th>\n",
       "      <td>13</td>\n",
       "      <td>Student_13</td>\n",
       "      <td>Female</td>\n",
       "      <td>NaN</td>\n",
       "      <td>88.0</td>\n",
       "      <td>91.0</td>\n",
       "      <td>B</td>\n",
       "    </tr>\n",
       "    <tr>\n",
       "      <th>15</th>\n",
       "      <td>16</td>\n",
       "      <td>Student_16</td>\n",
       "      <td>Female</td>\n",
       "      <td>NaN</td>\n",
       "      <td>95.0</td>\n",
       "      <td>87.0</td>\n",
       "      <td>A</td>\n",
       "    </tr>\n",
       "    <tr>\n",
       "      <th>18</th>\n",
       "      <td>19</td>\n",
       "      <td>Student_19</td>\n",
       "      <td>Male</td>\n",
       "      <td>NaN</td>\n",
       "      <td>92.0</td>\n",
       "      <td>86.0</td>\n",
       "      <td>A</td>\n",
       "    </tr>\n",
       "  </tbody>\n",
       "</table>\n",
       "</div>"
      ],
      "text/plain": [
       "    Rollno        Name  Gender  English  Maths  Science Category\n",
       "6        7   Student_7    Male     76.0   77.0      NaN        B\n",
       "13      14  Student_14    Male     77.0   80.0      NaN        C\n",
       "1        2   Student_2  Female     78.0   75.0     83.0        C\n",
       "7        8   Student_8    Male     80.0    NaN     85.0        B\n",
       "10      11  Student_11    Male     82.0    NaN     88.0        C\n",
       "0        1   Student_1    Male     85.0    NaN     78.0        A\n",
       "16      17  Student_17    Male     85.0   85.0     92.0        B\n",
       "19      20  Student_20  Female     87.0   83.0     89.0        B\n",
       "4        5   Student_5    Male     88.0   88.0     86.0        C\n",
       "11      12  Student_12    Male     89.0   78.0     84.0        B\n",
       "3        4   Student_4    Male     90.0   85.0     91.0        C\n",
       "17      18  Student_18    Male     91.0    NaN      NaN        C\n",
       "14      15  Student_15    Male     93.0    NaN     80.0        B\n",
       "9       10  Student_10    Male     95.0   91.0      NaN        B\n",
       "2        3   Student_3    Male      NaN   92.0      NaN        A\n",
       "5        6   Student_6  Female      NaN   81.0     89.0        C\n",
       "8        9   Student_9  Female      NaN   94.0     93.0        B\n",
       "12      13  Student_13  Female      NaN   88.0     91.0        B\n",
       "15      16  Student_16  Female      NaN   95.0     87.0        A\n",
       "18      19  Student_19    Male      NaN   92.0     86.0        A"
      ]
     },
     "execution_count": 3,
     "metadata": {},
     "output_type": "execute_result"
    }
   ],
   "source": [
    "# 8\n",
    "# Sort all the students by English marks column\n",
    "import pandas as pd\n",
    "df = pd.read_csv(\"student_marks.csv\")\n",
    "df.sort_values(by=[\"English\"], ascending=True)\n",
    "\n",
    "\n",
    "\n",
    "\n",
    "\n"
   ]
  },
  {
   "cell_type": "code",
   "execution_count": 61,
   "id": "b9ac6a4f-d82d-4a32-971f-a44f82433e0c",
   "metadata": {},
   "outputs": [
    {
     "name": "stdout",
     "output_type": "stream",
     "text": [
      "    Rollno        Name  Gender  English  Maths  Science Category\n",
      "2        3   Student_3    Male      NaN   92.0      NaN        A\n",
      "3        4   Student_4    Male     90.0   85.0     91.0        C\n",
      "4        5   Student_5    Male     88.0   88.0     86.0        C\n",
      "5        6   Student_6  Female      NaN   81.0     89.0        C\n",
      "8        9   Student_9  Female      NaN   94.0     93.0        B\n",
      "9       10  Student_10    Male     95.0   91.0      NaN        B\n",
      "12      13  Student_13  Female      NaN   88.0     91.0        B\n",
      "15      16  Student_16  Female      NaN   95.0     87.0        A\n",
      "16      17  Student_17    Male     85.0   85.0     92.0        B\n",
      "18      19  Student_19    Male      NaN   92.0     86.0        A\n",
      "19      20  Student_20  Female     87.0   83.0     89.0        B\n"
     ]
    }
   ],
   "source": [
    "# 9\n",
    "# Display rows of the students who scored more than 80 in Maths\n",
    "\n",
    "filtered_marks = df[df[\"Maths\"] > 80]\n",
    "print(filtered_marks)"
   ]
  },
  {
   "cell_type": "code",
   "execution_count": 62,
   "id": "1ad35ec6-4b83-4016-90cc-088e959973f1",
   "metadata": {},
   "outputs": [
    {
     "name": "stdout",
     "output_type": "stream",
     "text": [
      "Maths      95.0\n",
      "English    95.0\n",
      "Science    93.0\n",
      "dtype: float64\n"
     ]
    }
   ],
   "source": [
    "# 10\n",
    "# Find the maximum marks in each subject.\n",
    "is_max = df[[\"Maths\" , \"English\" , \"Science\"]].max()\n",
    "print(is_max)\n"
   ]
  },
  {
   "cell_type": "code",
   "execution_count": 63,
   "id": "757c0032-cad9-4adf-a5e7-994a5feb4fce",
   "metadata": {},
   "outputs": [
    {
     "name": "stdout",
     "output_type": "stream",
     "text": [
      "Maths      75.0\n",
      "English    76.0\n",
      "Science    78.0\n",
      "dtype: float64\n"
     ]
    }
   ],
   "source": [
    "# 11\n",
    "# Find the minimum marks in each subject\n",
    "is_min = df[[\"Maths\" , \"English\" , \"Science\"]].min()\n",
    "print(is_min)"
   ]
  },
  {
   "cell_type": "code",
   "execution_count": 64,
   "id": "5dc1ce47-03ef-4a0c-8272-c59be11cdde5",
   "metadata": {},
   "outputs": [
    {
     "name": "stdout",
     "output_type": "stream",
     "text": [
      "Maths      85.600000\n",
      "English    85.428571\n",
      "Science    86.800000\n",
      "dtype: float64\n"
     ]
    }
   ],
   "source": [
    "# 12\n",
    "# Calculate the display the mean (average) marks for each subject\n",
    "average_marks = df[[\"Maths\" , \"English\" , \"Science\"]].mean()\n",
    "print(average_marks)\n",
    "\n",
    "\n"
   ]
  },
  {
   "cell_type": "code",
   "execution_count": 8,
   "id": "4347cb04-cfb3-4d46-9dcb-d14e52ec67d7",
   "metadata": {},
   "outputs": [
    {
     "name": "stdout",
     "output_type": "stream",
     "text": [
      "    Rollno        Name  Gender  English  Maths  Science Category  Total\n",
      "0        1   Student_1    Male     85.0    NaN     78.0        A  163.0\n",
      "1        2   Student_2  Female     78.0   75.0     83.0        C  236.0\n",
      "2        3   Student_3    Male      NaN   92.0      NaN        A   92.0\n",
      "3        4   Student_4    Male     90.0   85.0     91.0        C  266.0\n",
      "4        5   Student_5    Male     88.0   88.0     86.0        C  262.0\n",
      "5        6   Student_6  Female      NaN   81.0     89.0        C  170.0\n",
      "6        7   Student_7    Male     76.0   77.0      NaN        B  153.0\n",
      "7        8   Student_8    Male     80.0    NaN     85.0        B  165.0\n",
      "8        9   Student_9  Female      NaN   94.0     93.0        B  187.0\n",
      "9       10  Student_10    Male     95.0   91.0      NaN        B  186.0\n",
      "10      11  Student_11    Male     82.0    NaN     88.0        C  170.0\n",
      "11      12  Student_12    Male     89.0   78.0     84.0        B  251.0\n",
      "12      13  Student_13  Female      NaN   88.0     91.0        B  179.0\n",
      "13      14  Student_14    Male     77.0   80.0      NaN        C  157.0\n",
      "14      15  Student_15    Male     93.0    NaN     80.0        B  173.0\n",
      "15      16  Student_16  Female      NaN   95.0     87.0        A  182.0\n",
      "16      17  Student_17    Male     85.0   85.0     92.0        B  262.0\n",
      "17      18  Student_18    Male     91.0    NaN      NaN        C   91.0\n",
      "18      19  Student_19    Male      NaN   92.0     86.0        A  178.0\n",
      "19      20  Student_20  Female     87.0   83.0     89.0        B  259.0\n"
     ]
    }
   ],
   "source": [
    "# 13\n",
    "# Calculate the total marks for each student and add it as a new column as total. Display\n",
    "# updated DataFrame\n",
    "\n",
    "df['Total'] = df[['Maths', 'English', 'Science']].sum(axis=1)\n",
    "\n",
    "# Displaying the updated DataFrame\n",
    "print(df)\n",
    "\n"
   ]
  },
  {
   "cell_type": "code",
   "execution_count": 10,
   "id": "d7c8e281-4103-4da3-8621-be04be011f7b",
   "metadata": {},
   "outputs": [
    {
     "name": "stdout",
     "output_type": "stream",
     "text": [
      "    Rollno        Name  Gender  English  Maths  Science Category  Total\n",
      "3        4   Student_4    Male     90.0   85.0     91.0        C  266.0\n",
      "4        5   Student_5    Male     88.0   88.0     86.0        C  262.0\n",
      "16      17  Student_17    Male     85.0   85.0     92.0        B  262.0\n",
      "19      20  Student_20  Female     87.0   83.0     89.0        B  259.0\n",
      "11      12  Student_12    Male     89.0   78.0     84.0        B  251.0\n",
      "1        2   Student_2  Female     78.0   75.0     83.0        C  236.0\n",
      "8        9   Student_9  Female      NaN   94.0     93.0        B  187.0\n",
      "9       10  Student_10    Male     95.0   91.0      NaN        B  186.0\n",
      "15      16  Student_16  Female      NaN   95.0     87.0        A  182.0\n",
      "12      13  Student_13  Female      NaN   88.0     91.0        B  179.0\n",
      "18      19  Student_19    Male      NaN   92.0     86.0        A  178.0\n",
      "14      15  Student_15    Male     93.0    NaN     80.0        B  173.0\n",
      "10      11  Student_11    Male     82.0    NaN     88.0        C  170.0\n",
      "5        6   Student_6  Female      NaN   81.0     89.0        C  170.0\n",
      "7        8   Student_8    Male     80.0    NaN     85.0        B  165.0\n",
      "0        1   Student_1    Male     85.0    NaN     78.0        A  163.0\n",
      "13      14  Student_14    Male     77.0   80.0      NaN        C  157.0\n",
      "6        7   Student_7    Male     76.0   77.0      NaN        B  153.0\n",
      "2        3   Student_3    Male      NaN   92.0      NaN        A   92.0\n",
      "17      18  Student_18    Male     91.0    NaN      NaN        C   91.0\n"
     ]
    }
   ],
   "source": [
    "# 14\n",
    "# Sort all the student rows by descending order of “total” column\n",
    "\n",
    "sort_data = df.sort_values(by=\"Total\" , ascending=False)\n",
    "print(sort_data)"
   ]
  },
  {
   "cell_type": "code",
   "execution_count": 67,
   "id": "976ae7c5-11e6-4158-8b81-c0e6cfb285ee",
   "metadata": {},
   "outputs": [
    {
     "name": "stdout",
     "output_type": "stream",
     "text": [
      "    Rollno        Name Gender  English  Maths  Science Category  Total\n",
      "2        3   Student_3   Male      NaN   92.0      NaN        A   92.0\n",
      "17      18  Student_18   Male     91.0    NaN      NaN        C   91.0\n"
     ]
    }
   ],
   "source": [
    "# 15\n",
    "# Display the student rows whose total marks are less than 50\n",
    "\n",
    "print(df[df[\"Total\"] < 100])"
   ]
  },
  {
   "cell_type": "code",
   "execution_count": 11,
   "id": "3f3da315-2be3-4333-b4b5-4e57616dcf52",
   "metadata": {},
   "outputs": [
    {
     "name": "stdout",
     "output_type": "stream",
     "text": [
      "Top student is Student_4 with total marks: 266.0\n",
      "Lowest scoring student is Student_18 with total marks: 91.0\n"
     ]
    }
   ],
   "source": [
    "# 16\n",
    "# Find the student with the highest total marks and display their name.\n",
    "# Find the student with the lowest total marks and display their name. \n",
    "import pandas as pd\n",
    "\n",
    "import pandas as pd\n",
    "\n",
    "# Load the DataFrame from the CSV\n",
    "df = pd.read_csv(\"student_marks.csv\")\n",
    "\n",
    "# Calculate total marks by summing up 'English', 'Maths', and 'Science' columns\n",
    "df['Total'] = df[['English', 'Maths', 'Science']].sum(axis=1)\n",
    "\n",
    "top_student = df.loc[df['Total'].idxmax()]\n",
    "print(f\"Top student is {top_student['Name']} with total marks: {top_student['Total']}\")\n",
    "\n",
    "\n",
    "low_student = df.loc[df['Total'].idxmin()]\n",
    "print(f\"Lowest scoring student is {low_student['Name']} with total marks: {low_student['Total']}\")\n",
    "\n"
   ]
  },
  {
   "cell_type": "code",
   "execution_count": 69,
   "id": "eba7e24e-8d38-45c2-a950-54706d504a16",
   "metadata": {},
   "outputs": [
    {
     "name": "stdout",
     "output_type": "stream",
     "text": [
      "Top student in English is Student_10 with 95.0 marks\n",
      "Top student in Maths is Student_16 with 95.0 marks\n",
      "Top student in Science is Student_9 with 93.0 marks\n"
     ]
    }
   ],
   "source": [
    "# 17\n",
    "# Find the student name with the maximum marks in each subject.\n",
    "import pandas as pd\n",
    "\n",
    "# Load the DataFrame from the CSV\n",
    "df = pd.read_csv(\"student_marks.csv\")\n",
    "\n",
    "# Find the student with the highest marks in English\n",
    "top_english_student = df.loc[df['English'].idxmax()]\n",
    "print(f\"Top student in English is {top_english_student['Name']} with {top_english_student['English']} marks\")\n",
    "\n",
    "# Find the student with the highest marks in Maths\n",
    "top_maths_student = df.loc[df['Maths'].idxmax()]\n",
    "print(f\"Top student in Maths is {top_maths_student['Name']} with {top_maths_student['Maths']} marks\")\n",
    "\n",
    "# Find the student with the highest marks in Science\n",
    "top_science_student = df.loc[df['Science'].idxmax()]\n",
    "print(f\"Top student in Science is {top_science_student['Name']} with {top_science_student['Science']} marks\")\n"
   ]
  },
  {
   "cell_type": "code",
   "execution_count": 70,
   "id": "7e38e902-2bbf-4804-bd27-c50da2f25b7a",
   "metadata": {},
   "outputs": [
    {
     "name": "stdout",
     "output_type": "stream",
     "text": [
      "Gender\n",
      "Female     6\n",
      "Male      14\n",
      "dtype: int64\n"
     ]
    }
   ],
   "source": [
    "# 18\n",
    "# Display the gender-wise total number of students.\n",
    "import pandas as pd\n",
    "\n",
    "# Load the DataFrame from the CSV\n",
    "df = pd.read_csv(\"student_marks.csv\")\n",
    "\n",
    "# Group by 'Gender' and count the number of students in each gender\n",
    "gender_count = df.groupby('Gender').size()\n",
    "\n",
    "# Display the result\n",
    "print(gender_count)\n"
   ]
  },
  {
   "cell_type": "code",
   "execution_count": 71,
   "id": "87f898a4-b087-4381-9e94-bfb1e42acae1",
   "metadata": {},
   "outputs": [
    {
     "name": "stdout",
     "output_type": "stream",
     "text": [
      "Category\n",
      "A    4\n",
      "B    9\n",
      "C    7\n",
      "dtype: int64\n"
     ]
    }
   ],
   "source": [
    "# 19\n",
    "# Find the number of students in each category (A, B, C) and display the counts for each\n",
    "# category\n",
    "import pandas as pd\n",
    "\n",
    "# Load the DataFrame from the CSV\n",
    "df = pd.read_csv(\"student_marks.csv\")\n",
    "\n",
    "# Group by 'Category' and count the number of students in each category\n",
    "category_count = df.groupby('Category').size()\n",
    "\n",
    "# Display the result\n",
    "print(category_count)\n"
   ]
  },
  {
   "cell_type": "code",
   "execution_count": 72,
   "id": "9bc21600-2a5f-4072-be23-c864577f1b23",
   "metadata": {},
   "outputs": [
    {
     "name": "stdout",
     "output_type": "stream",
     "text": [
      "    Rollno        Name Gender  English  Maths  Science Category  Total\n",
      "3        4   Student_4   Male     90.0   85.0     91.0        C  266.0\n",
      "4        5   Student_5   Male     88.0   88.0     86.0        C  262.0\n",
      "16      17  Student_17   Male     85.0   85.0     92.0        B  262.0\n"
     ]
    }
   ],
   "source": [
    "# 20\n",
    "# Find and display the rows of the top 3 students with the highest total marks.\n",
    "import pandas as pd\n",
    "\n",
    "# Load the DataFrame from the CSV\n",
    "df = pd.read_csv(\"student_marks.csv\")\n",
    "\n",
    "# Calculate total marks by summing up 'English', 'Maths', and 'Science' columns\n",
    "df['Total'] = df[['English', 'Maths', 'Science']].sum(axis=1)\n",
    "\n",
    "# Find the top 3 students with the highest total marks\n",
    "top_students = df.nlargest(3, 'Total')\n",
    "\n",
    "# Display the rows of the top 3 students\n",
    "print(top_students)\n",
    "\n"
   ]
  },
  {
   "cell_type": "code",
   "execution_count": 73,
   "id": "3670af41-4986-45f6-8638-7c0f1858977b",
   "metadata": {},
   "outputs": [
    {
     "name": "stdout",
     "output_type": "stream",
     "text": [
      "The file 'student_mark_updated.csv' has been created successfully.\n"
     ]
    }
   ],
   "source": [
    "# 21\n",
    "# Save a new csv file with name “student_mark_updated.csv” to store updated DataFrame.\n",
    "# Verify whether the new CSV file is created or not\n",
    "import pandas as pd\n",
    "import os\n",
    "\n",
    "# Load the DataFrame from the CSV\n",
    "df = pd.read_csv(\"student_marks.csv\")\n",
    "\n",
    "# Calculate total marks by summing up 'English', 'Maths', and 'Science' columns\n",
    "df['Total'] = df[['English', 'Maths', 'Science']].sum(axis=1)\n",
    "\n",
    "# Save the updated DataFrame to a new CSV file\n",
    "new_file_name = \"student_mark_updated.csv\"\n",
    "df.to_csv(new_file_name, index=False)\n",
    "\n",
    "# Verify if the new CSV file is created\n",
    "if os.path.exists(new_file_name):\n",
    "    print(f\"The file '{new_file_name}' has been created successfully.\")\n",
    "else:\n",
    "    print(f\"Failed to create the file '{new_file_name}'.\")\n"
   ]
  },
  {
   "cell_type": "code",
   "execution_count": 12,
   "id": "be5a2a04-0a35-475a-871a-f34df426d215",
   "metadata": {},
   "outputs": [
    {
     "name": "stdout",
     "output_type": "stream",
     "text": [
      "             Period    Data_value  Series_title_3  Series_title_4  \\\n",
      "count  77010.000000  76610.000000             0.0             0.0   \n",
      "mean    2009.196260    950.644098             NaN             NaN   \n",
      "std       10.233531    326.550594             NaN             NaN   \n",
      "min     1977.120000     -5.800000             NaN             NaN   \n",
      "25%     2001.120000    752.000000             NaN             NaN   \n",
      "50%     2011.090000    989.000000             NaN             NaN   \n",
      "75%     2018.030000   1110.000000             NaN             NaN   \n",
      "max     2024.060000   5239.000000             NaN             NaN   \n",
      "\n",
      "       Series_title_5  \n",
      "count             0.0  \n",
      "mean              NaN  \n",
      "std               NaN  \n",
      "min               NaN  \n",
      "25%               NaN  \n",
      "50%               NaN  \n",
      "75%               NaN  \n",
      "max               NaN  \n"
     ]
    },
    {
     "name": "stderr",
     "output_type": "stream",
     "text": [
      "C:\\Users\\Avinash\\AppData\\Local\\Temp\\ipykernel_7676\\997429978.py:10: DtypeWarning: Columns (8) have mixed types. Specify dtype option on import or set low_memory=False.\n",
      "  df = pd.read_csv(file_path)\n"
     ]
    }
   ],
   "source": [
    "# Download any one dataset (CSV file) of your choice from the internet and Load that\n",
    "# dataset into a pandas DataFrame. Display description of the data using dataframe.\n",
    "# Display number of columns and rows.\n",
    "# https://www.kaggle.com/datasets\n",
    "\n",
    "import pandas as pd\n",
    "\n",
    "# Load the dataset into a DataFrame (update the file path as needed)\n",
    "file_path = \"bussiness.csv\"  # Replace with the actual path to your CSV file\n",
    "df = pd.read_csv(file_path)\n",
    "\n",
    "# Display the description of the DataFrame\n",
    "print(df.describe())\n",
    "\n",
    "# Display the number of columns and rows\n",
    "# print(f\"Number of columns: {df.shape[1]}\")\n",
    "# print(f\"Number of rows: {df.shape[0]}\")\n"
   ]
  },
  {
   "cell_type": "code",
   "execution_count": null,
   "id": "67aaa7d7-3786-4377-a19e-dc19c9e3a109",
   "metadata": {},
   "outputs": [],
   "source": []
  },
  {
   "cell_type": "code",
   "execution_count": null,
   "id": "188615c1-52c7-459a-b734-49bbe29f31e4",
   "metadata": {},
   "outputs": [],
   "source": []
  }
 ],
 "metadata": {
  "kernelspec": {
   "display_name": "Python 3 (ipykernel)",
   "language": "python",
   "name": "python3"
  },
  "language_info": {
   "codemirror_mode": {
    "name": "ipython",
    "version": 3
   },
   "file_extension": ".py",
   "mimetype": "text/x-python",
   "name": "python",
   "nbconvert_exporter": "python",
   "pygments_lexer": "ipython3",
   "version": "3.10.4"
  }
 },
 "nbformat": 4,
 "nbformat_minor": 5
}
