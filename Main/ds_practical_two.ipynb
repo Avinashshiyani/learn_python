{
 "cells": [
  {
   "cell_type": "code",
   "execution_count": 1,
   "id": "50990ca5-1079-46e7-be6c-7fd062e26725",
   "metadata": {},
   "outputs": [
    {
     "name": "stdout",
     "output_type": "stream",
     "text": [
      "element =  9 type =  <class 'int'>\n",
      "element =  3.14 type =  <class 'float'>\n",
      "element =  gls type =  <class 'str'>\n",
      "element =  True type =  <class 'bool'>\n",
      "element =  [1, 2, 3] type =  <class 'list'>\n",
      "element =  (1, 2, 3) type =  <class 'tuple'>\n",
      "element =  {1, 2, 3} type =  <class 'set'>\n",
      "element =  {'name': 'jatin'} type =  <class 'dict'>\n",
      "element =  None type =  <class 'NoneType'>\n",
      "element =  (2+3j) type =  <class 'complex'>\n"
     ]
    }
   ],
   "source": [
    "# name =  Avinash Shiyani Batch = 24-26 , c-36\n",
    "# 1\n",
    "# Write a python program to create a list of 12 elements containing various data types.\n",
    "# Iterate through the list and print the element and datatype of each element.\n",
    "# Hint:\n",
    "# mylist = [9, 3.14, \"gls\", True, [1, 2, 3], (1,2,3), {1,2,3}, {\"name\": \"jatin\"}, None, 2+3j]\n",
    "\n",
    "mylist = [9, 3.14, \"gls\", True, [1, 2, 3], (1,2,3), {1,2,3}, {\"name\": \"jatin\"}, None, 2+3j]\n",
    "\n",
    "for i in mylist:\n",
    "    print(\"element = \" ,  i , \"type = \" , type(i))"
   ]
  },
  {
   "cell_type": "code",
   "execution_count": 2,
   "id": "dbb0357d-ee08-4d22-9368-f0c0158d94fa",
   "metadata": {},
   "outputs": [
    {
     "name": "stdout",
     "output_type": "stream",
     "text": [
      "append city ['jamnagar', 'rajkot', 'Ahmedabad', 'surat']\n",
      "first element =  jamnagar last element = surat\n",
      "removing last element ahmedabad =  ['jamnagar', 'rajkot', 'Ahmedabad']\n",
      "check city False\n"
     ]
    }
   ],
   "source": [
    "# 2\n",
    "# Write a python program to create a list of cities and Perform following operations on the\n",
    "# list of cities.\n",
    "# a) Append a new city to the list.\n",
    "# b) Print the first and last city in the list.\n",
    "# c) Remove specific city from the list.\n",
    "# d) Check whether ‘Amreli’ is in the list or not\n",
    "\n",
    "my_city = [\"jamnagar\" , \"rajkot\" , \"Ahmedabad\"]\n",
    "\n",
    "# a append city\n",
    "my_city.append(\"surat\")\n",
    "print(\"append city\" , my_city)\n",
    "\n",
    "# b first and last city print\n",
    "print(\"first element = \" , my_city[0] , \"last element =\" , (my_city[-1]))\n",
    "\n",
    "# c remove element\n",
    "my_city.pop(-1)\n",
    "print(\"removing last element ahmedabad = \" , my_city)\n",
    "\n",
    "checkCity = \"amreli\" in my_city\n",
    "print (\"check city\" ,checkCity)"
   ]
  },
  {
   "cell_type": "code",
   "execution_count": 3,
   "id": "2d675463-49ef-4f10-a7ae-516d95faa343",
   "metadata": {},
   "outputs": [
    {
     "name": "stdout",
     "output_type": "stream",
     "text": [
      "may\n",
      "('november', 'december')\n",
      "False\n",
      "<class 'list'>\n",
      "['jan', 'feb', 'march', 'april', 'may', 'june', 'july', 'august', 'november', 'december', 'avinash']\n"
     ]
    }
   ],
   "source": [
    "# 3\n",
    "# Write a python program to create a tuple called ‘months’ containing the names of the any\n",
    "# ten months of the year. Perform following operations on the ‘months’ tuple.\n",
    "# a) Print the fifth month.\n",
    "# b) Print the last 2 months.\n",
    "# c) Check whether ‘October’ is in the list or not.\n",
    "# d) Try to add a new month to the tuple (#this should result in an error)\n",
    "# e) Convert the tuple into a list, add remaining months, and then convert it back to a\n",
    "# tuple. \n",
    "\n",
    "months = (\"jan\" , \"feb\" , \"march\" , \"april\" , \"may\",\"june\" , \"july\",\"august\" , \"november\" , \"december\" )\n",
    "\n",
    "# print fifth elemnt\n",
    "print(months[4])\n",
    "\n",
    "# print last two months\n",
    "print(months[-2:])\n",
    "\n",
    "# octomber in therre or not\n",
    "is_month_there = \"october\" in months\n",
    "print(is_month_there)\n",
    "\n",
    "# add new month\n",
    "# addNewMonth = months.append(\"avinash\")\n",
    "\n",
    "# print(addNewMonth)\n",
    "\n",
    "convert = list(months)\n",
    "\n",
    "convert.append(\"avinash\")\n",
    "\n",
    "print(type(convert))\n",
    "\n",
    "print(convert)\n",
    "\n",
    "\n",
    "\n",
    "\n"
   ]
  },
  {
   "cell_type": "code",
   "execution_count": 4,
   "id": "da5186db-2b69-437c-a064-80bf0ebc9870",
   "metadata": {},
   "outputs": [
    {
     "name": "stdout",
     "output_type": "stream",
     "text": [
      "2\n",
      "3\n",
      "{'hello', 'world'}\n",
      "{2, 'hello', 'world'}\n",
      "True\n",
      "{'avinash', 'hello', 'world'}\n",
      "{2, 'hello'}\n"
     ]
    }
   ],
   "source": [
    "# 4\n",
    "# Write a python program to create two sets, `set1` and `set2`, containing some common\n",
    "# and unique elements. Perform following operations.\n",
    "# a) Display the number of elements of both the sets.\n",
    "# b) Find the intersection of `set1` and `set2`\n",
    "# c) Find the union of `set1` and `set2`.\n",
    "# d) Check if `set1` is a subset of `set2`.\n",
    "# e) Add an element to `set1` and remove an element from `set2`.\n",
    "# Display appropriate results to verify the output.\n",
    "\n",
    "set1 = {\"hello\" , \"world\"}\n",
    "set2 = {\"hello\" , 2 , \"world\"}\n",
    "\n",
    "# length of elemnts\n",
    "print(len(set1))\n",
    "print(len(set2))\n",
    "\n",
    "# find the intersection\n",
    "setIntersection = set1.intersection(set2)\n",
    "print(setIntersection)\n",
    "\n",
    "# find union \n",
    "findUnion = set1.union(set2);\n",
    "print(findUnion)\n",
    "\n",
    "# subset\n",
    "findSubset = set1.issubset(set2)\n",
    "print(findSubset)\n",
    "\n",
    "addEle = set1.add(\"avinash\")\n",
    "delEle = set2.remove(\"world\")\n",
    "print(set1)\n",
    "print(set2)"
   ]
  },
  {
   "cell_type": "code",
   "execution_count": 5,
   "id": "5b9cb470-eb02-4a45-8a64-79a374fc2bae",
   "metadata": {},
   "outputs": [
    {
     "name": "stdout",
     "output_type": "stream",
     "text": [
      "36\n",
      "True\n",
      "{'firstname': 'Avinash', 'lastname': 'shiyani', 'rollno': 36, 'city': 'jamnagar'}\n"
     ]
    }
   ],
   "source": [
    "# 5. Write a python program to create dictionary called `student` with keys: \"firstname\",\n",
    "# \"lastname\",”cmat” and \"rollno\" and fill in the values with your own information.\n",
    "# a) Print the value associated with the \"rollno\" key.\n",
    "# b) Add a new key-value pair to the dictionary, e.g., \"city\" and your city of residence.\n",
    "# c) Remove the \"cmat\" key from the dictionary.\n",
    "# d) Check if \"city\" is a key in the dictionary.\n",
    "# Display appropriate results to verify the output.\n",
    "\n",
    "student = {\n",
    "    \"firstname\":\"Avinash\",\n",
    "    \"lastname\":\"shiyani\",\n",
    "    \"cmat\":False,\n",
    "    \"rollno\":36,\n",
    "}\n",
    "\n",
    "# roll key print\n",
    "print(student[\"rollno\"])\n",
    "\n",
    "# add city and city of refrence\n",
    "student[\"city\"] = \"jamnagar\"\n",
    "\n",
    "# remove elemnt\n",
    "student.pop(\"cmat\")\n",
    "\n",
    "# check if city\n",
    "checkCity = \"city\" in student\n",
    "print(checkCity)\n",
    "print(student)"
   ]
  },
  {
   "cell_type": "code",
   "execution_count": 6,
   "id": "ce7a46df-93bd-4f16-bf4f-1e4dfd346869",
   "metadata": {},
   "outputs": [
    {
     "name": "stdout",
     "output_type": "stream",
     "text": [
      "Book Titles:\n",
      "To Kill a Mockingbird\n",
      "1984\n",
      "The Great Gatsby\n",
      "Pride and Prejudice\n",
      "\n",
      "Authors:\n",
      "Harper Lee\n",
      "George Orwell\n",
      "F. Scott Fitzgerald\n",
      "Jane Austen\n"
     ]
    },
    {
     "name": "stdout",
     "output_type": "stream",
     "text": [
      "\n",
      "Enter a new book title:  hello\n",
      "Enter the author of the book:  ai\n"
     ]
    },
    {
     "name": "stdout",
     "output_type": "stream",
     "text": [
      "Added: hello by ai\n"
     ]
    },
    {
     "name": "stdout",
     "output_type": "stream",
     "text": [
      "\n",
      "Enter the title of the book you want to remove:  ai\n"
     ]
    },
    {
     "name": "stdout",
     "output_type": "stream",
     "text": [
      "Book titled 'ai' not found in the dictionary.\n",
      "\n",
      "Updated Book Titles:\n",
      "To Kill a Mockingbird\n",
      "1984\n",
      "The Great Gatsby\n",
      "Pride and Prejudice\n",
      "hello\n",
      "\n",
      "Updated Authors:\n",
      "Harper Lee\n",
      "George Orwell\n",
      "F. Scott Fitzgerald\n",
      "Jane Austen\n",
      "ai\n"
     ]
    }
   ],
   "source": [
    "# Create a dictionary of book titles and authors\n",
    "books = {\n",
    "    \"To Kill a Mockingbird\": \"Harper Lee\",\n",
    "    \"1984\": \"George Orwell\",\n",
    "    \"The Great Gatsby\": \"F. Scott Fitzgerald\",\n",
    "    \"Pride and Prejudice\": \"Jane Austen\"\n",
    "}\n",
    "\n",
    "# Print all book titles\n",
    "print(\"Book Titles:\")\n",
    "for title in books.keys():\n",
    "    print(title)\n",
    "\n",
    "# Print all authors\n",
    "print(\"\\nAuthors:\")\n",
    "for author in books.values():\n",
    "    print(author)\n",
    "\n",
    "# Add a new book-title/author pair to the dictionary\n",
    "new_title = input(\"\\nEnter a new book title: \")\n",
    "new_author = input(\"Enter the author of the book: \")\n",
    "books[new_title] = new_author\n",
    "print(f\"Added: {new_title} by {new_author}\")\n",
    "\n",
    "# Accept \n",
    "remove_title = input(\"\\nEnter the title of the book you want to remove: \")\n",
    "\n",
    "if remove_title in books:\n",
    "    del books[remove_title]\n",
    "    print(f\"Removed: {remove_title}\")\n",
    "else:\n",
    "    print(f\"Book titled '{remove_title}' not found in the dictionary.\")\n",
    "\n",
    "# Print updated \n",
    "print(\"\\nUpdated Book Titles:\")\n",
    "for title in books.keys():\n",
    "    print(title)\n",
    "\n",
    "print(\"\\nUpdated Authors:\")\n",
    "for author in books.values():\n",
    "    print(author)\n"
   ]
  },
  {
   "cell_type": "code",
   "execution_count": 12,
   "id": "53fc7f1a-c954-4b3e-ab33-4987e10b3065",
   "metadata": {},
   "outputs": [
    {
     "name": "stdout",
     "output_type": "stream",
     "text": [
      "      name language  coding\n",
      "0  avinash  english  python\n"
     ]
    }
   ],
   "source": [
    "# 7\n",
    "# Write a python program to create dictionary called ‘student’ and create Pandas dataframe\n",
    "# from that dictionary. Display appropriate output.\n",
    "\n",
    "import pandas as pd\n",
    "\n",
    "student = {\n",
    "    \"name\":[\"avinash\"],\n",
    "    \"language\":[\"english\"],\n",
    "    \"coding\":[\"python\"],\n",
    "}\n",
    "\n",
    "useDataSet = pd.DataFrame(student)\n",
    "\n",
    "print(useDataSet)\n"
   ]
  },
  {
   "cell_type": "code",
   "execution_count": 56,
   "id": "953ecd7e-b6d2-4d78-9eed-2fbb0a5b06cf",
   "metadata": {},
   "outputs": [
    {
     "name": "stdout",
     "output_type": "stream",
     "text": [
      "31\n",
      "5.166666666666667\n",
      "1\n"
     ]
    }
   ],
   "source": [
    "# 8.\n",
    "# Write a python program to find the sum, average and minimum number from a list.\n",
    "\n",
    "number = [1 , 2 , 4 , 9 ,8, 7]\n",
    "\n",
    "# sum in list\n",
    "sumOfnumber = sum(number)\n",
    "print(sumOfnumber)\n",
    "\n",
    "# average of number\n",
    "averageNumber =  sumOfnumber / 6\n",
    "print(averageNumber)\n",
    "\n",
    "# minimum of number\n",
    "miniNumber = min(number)\n",
    "print(miniNumber)\n",
    "\n",
    "# print(number)"
   ]
  },
  {
   "cell_type": "code",
   "execution_count": 16,
   "id": "ae14f54a-a994-4760-9a94-2cfce3cc6d36",
   "metadata": {},
   "outputs": [
    {
     "name": "stdout",
     "output_type": "stream",
     "text": [
      "Enter input to replace avinash\n"
     ]
    },
    {
     "name": "stdout",
     "output_type": "stream",
     "text": [
      "['hello', 'avinash', 'world']\n"
     ]
    }
   ],
   "source": [
    "# 9. Write a python program to accept new value from the user and replace specific index in\n",
    "# your list with new value. \n",
    "\n",
    "userInput = input(\"Enter input to replace\")\n",
    "\n",
    "list = [\"hello\" , \"name\" , \"world\"]\n",
    "\n",
    "for i in range(len(list)):\n",
    "    if list[i] == \"name\":\n",
    "        list[i] = userInput\n",
    "\n",
    "print(list)"
   ]
  },
  {
   "cell_type": "code",
   "execution_count": 33,
   "id": "12a4880f-fa0d-46e0-96b1-bde331c995bf",
   "metadata": {},
   "outputs": [
    {
     "name": "stdout",
     "output_type": "stream",
     "text": [
      "[-8, 1, 2, 45, 56, 80]\n",
      "[80, 56, 45, 2, 1, -8]\n"
     ]
    }
   ],
   "source": [
    "# 10\n",
    "# Write a python program to sort the list in ascending order and descending order\n",
    "list = [1,2,80,56,-8,45]\n",
    "ascendingOrder = list.sort()\n",
    "\n",
    "print(list)\n",
    "\n",
    "descendingOrder = list.sort(reverse = True)\n",
    "print(list)"
   ]
  },
  {
   "cell_type": "code",
   "execution_count": 41,
   "id": "3e529ae3-5b71-4a3a-9502-e7c48774989c",
   "metadata": {},
   "outputs": [
    {
     "name": "stdout",
     "output_type": "stream",
     "text": [
      "square of elemet =  1 = 1\n",
      "square of elemet =  20 = 400\n",
      "square of elemet =  65 = 4225\n",
      "square of elemet =  89 = 7921\n",
      "square of elemet =  89 = 7921\n",
      "square of elemet =  6 = 36\n",
      "square of elemet =  2 = 4\n"
     ]
    }
   ],
   "source": [
    "# 11. Write a python program to create a new list by putting square of each numeric element.\n",
    "\n",
    "list = [1 , 20 ,65 ,89 ,89 ,6 , 2]\n",
    "\n",
    "for i in list:\n",
    "    print(\"square of elemet = \" , i , \"=\" , i*i)\n"
   ]
  },
  {
   "cell_type": "code",
   "execution_count": 47,
   "id": "1db49a6a-8888-4099-a273-744f4829b296",
   "metadata": {},
   "outputs": [
    {
     "name": "stdout",
     "output_type": "stream",
     "text": [
      "['six', 'five', 'four', 'three', 'two', 'one']\n"
     ]
    }
   ],
   "source": [
    "# 12. Write a python program to concatenate two lists and then display the reverse list.\n",
    "\n",
    "listOne = [\"one\" , \"two\" , \"three\"]\n",
    "listTwo = [\"four\" , \"five\" , \"six\"]\n",
    "\n",
    "newList = listOne + listTwo\n",
    "\n",
    "newList.reverse()\n",
    "\n",
    "print(newList)"
   ]
  },
  {
   "cell_type": "code",
   "execution_count": 49,
   "id": "a3bc204d-a731-4a63-bda0-76da93392976",
   "metadata": {},
   "outputs": [
    {
     "name": "stdout",
     "output_type": "stream",
     "text": [
      "['one', 'two', 'three', ['four', 'five', 'six'], ['four', 'five', 'six']]\n"
     ]
    }
   ],
   "source": [
    "#13\n",
    "# Write a python program to append a list to second list.\n",
    "listOne.append(listTwo)\n",
    "\n",
    "# appending the list\n",
    "print(listOne)"
   ]
  },
  {
   "cell_type": "code",
   "execution_count": 2,
   "id": "b2dcd00f-f08b-4030-a9b7-f5075a196f7a",
   "metadata": {},
   "outputs": [
    {
     "name": "stdout",
     "output_type": "stream",
     "text": [
      "('1', '1', 'a', 'b', 'd', 'e', 'z')\n"
     ]
    }
   ],
   "source": [
    "#14 .Write a python program to sort a list of tuples alphabetically\n",
    "tup = ('a' , 'b' , 'z' , \"1\" , 'd' , 'e' , \"1\")\n",
    "\n",
    "a =  tuple(sorted(tup))\n",
    "print(a)"
   ]
  },
  {
   "cell_type": "code",
   "execution_count": 16,
   "id": "73421139-795d-4969-8512-c0e4005bdd78",
   "metadata": {},
   "outputs": [
    {
     "name": "stdout",
     "output_type": "stream",
     "text": [
      "1 is repeated 2 times.\n",
      "1 is repeated 2 times.\n"
     ]
    }
   ],
   "source": [
    "# 15. Write a python program to find the repeated items of a tuple\n",
    "tup = ('a' , 'b' , 'z' , \"1\" , 'd' , 'e' , \"1\")\n",
    "# finding repeated iteam\n",
    "for i in tup:\n",
    "    count = tup.count(i)\n",
    "    if count > 1:\n",
    "        print(f\"{i} is repeated {count} times.\")\n"
   ]
  },
  {
   "cell_type": "code",
   "execution_count": 20,
   "id": "26a84f94-0aff-43c9-b65e-822eb503dc28",
   "metadata": {},
   "outputs": [
    {
     "name": "stdout",
     "output_type": "stream",
     "text": [
      "{'world', 'avinash', 'hello', 'my', 'not', 'is', 'name'}\n"
     ]
    }
   ],
   "source": [
    "#16 Write a python program to create a new set with unique elements from both the sets by\n",
    "# removing duplicate elements.\n",
    "\n",
    "my_set = {\"hello\" , \"world\" , \"my\" , \"name\" , \"is\", \"avinash\"}\n",
    "my_set_two = { \"my\" , \"name\" ,  \"is\" , \"not\" , \"avinash\"}\n",
    "\n",
    "# union from makeing difference\n",
    "\n",
    "difference = my_set.union(my_set_two);\n",
    "\n",
    "print(difference)"
   ]
  },
  {
   "cell_type": "code",
   "execution_count": 24,
   "id": "51075fbe-8b88-4cfa-9af3-0dc47d69d81c",
   "metadata": {},
   "outputs": [
    {
     "name": "stdout",
     "output_type": "stream",
     "text": [
      "Difference (set1 - set2): {1, 2}\n",
      "Symmetric Difference: {1, 2, 5, 6}\n"
     ]
    }
   ],
   "source": [
    "#17\n",
    "# Write a python program to demonstrate the difference and symmetric difference operation\n",
    "# on two sets.\n",
    "# [Symmetric difference contains elements that are in either of the sets but not in their intersection]\n",
    "# Define two sets\n",
    "set1 = {1, 2, 3, 4}\n",
    "set2 = {3, 4, 5, 6}\n",
    "\n",
    "difference = set1 - set2\n",
    "symmetric_difference = set1.symmetric_difference(set2)\n",
    "\n",
    "print(\"Difference (set1 - set2):\", difference)\n",
    "print(\"Symmetric Difference:\", symmetric_difference)\n"
   ]
  },
  {
   "cell_type": "code",
   "execution_count": 30,
   "id": "eef60ae2-8084-4566-b71d-93902e0a0145",
   "metadata": {},
   "outputs": [
    {
     "name": "stdout",
     "output_type": "stream",
     "text": [
      "['h', 'e', 'l', 'l', 'o', ' ', 'w', 'o', 'r', 'l', 'd']\n",
      "('h', 'e', 'l', 'l', 'o', ' ', 'w', 'o', 'r', 'l', 'd')\n",
      "{'r', ' ', 'd', 'l', 'o', 'w', 'h', 'e'}\n"
     ]
    }
   ],
   "source": [
    "# 18. Write a python program to convert string to list, string to tuple and string to set.\n",
    "\n",
    "string = \"hello world\"\n",
    "\n",
    "# convert string to list\n",
    "convertStringToList = list(string)\n",
    "print(convertStringToList)\n",
    "\n",
    "# convert string to tuple\n",
    "convertStringToTuple  = tuple(string)\n",
    "print(convertStringToTuple)\n",
    "\n",
    "# convcert string to set\n",
    "convertStringToSet = set(string)\n",
    "print(convertStringToSet)"
   ]
  },
  {
   "cell_type": "code",
   "execution_count": 40,
   "id": "6dd8cec9-2b05-4e0c-8b68-be68661a6d6d",
   "metadata": {},
   "outputs": [
    {
     "name": "stdout",
     "output_type": "stream",
     "text": [
      "['world', 1, 'hello']\n",
      "('world', 1, 'hello')\n",
      "{'world', 1, 'hello'}\n"
     ]
    }
   ],
   "source": [
    "# 19. Write a python program to convert set to list, set to tuple and set to string.\n",
    "_set = { 1 , \"hello\" , \"world\"}\n",
    "\n",
    "# convert set to list\n",
    "convertSetToList = list(_set)\n",
    "print(convertSetToList)\n",
    "\n",
    "# convert set to tuple\n",
    "convertSetToTuple = tuple(_set)\n",
    "print(convertSetToTuple)\n",
    "\n",
    "# convert set to String\n",
    "convertSetToString = str(_set)\n",
    "\n",
    "print(convertSetToString)"
   ]
  },
  {
   "cell_type": "code",
   "execution_count": 43,
   "id": "ffcac69b-4081-4cc3-a3a6-38782574201d",
   "metadata": {},
   "outputs": [
    {
     "name": "stdout",
     "output_type": "stream",
     "text": [
      "5\n",
      "2\n",
      "4\n",
      "2\n",
      "10\n"
     ]
    }
   ],
   "source": [
    "# 20\n",
    "# Write a python program to display the length of each element of the list\n",
    "\n",
    "_list = [ \"hello\" , \"my\" , \"name\" , \"is\" , \"helloworld\"]\n",
    "\n",
    "for i in _list:\n",
    "    print(len(i))"
   ]
  },
  {
   "cell_type": "code",
   "execution_count": 73,
   "id": "fb886e92-dc48-436b-afac-278d12e85378",
   "metadata": {},
   "outputs": [
    {
     "name": "stdout",
     "output_type": "stream",
     "text": [
      "2 is a prime number.\n",
      "3 is a prime number.\n",
      "4 is not a prime number.\n",
      "5 is a prime number.\n",
      "10 is not a prime number.\n",
      "11 is a prime number.\n",
      "13 is a prime number.\n",
      "14 is not a prime number.\n",
      "15 is not a prime number.\n",
      "16 is not a prime number.\n",
      "17 is a prime number.\n",
      "18 is not a prime number.\n",
      "19 is a prime number.\n",
      "20 is not a prime number.\n"
     ]
    }
   ],
   "source": [
    "# 21\n",
    "# Write a Python program to check whether each number is a prime or not in a given list of\n",
    "# numbers.\n",
    "\n",
    "# Function to check if a number is prime\n",
    "def is_prime(n):\n",
    "    if n <= 1:  \n",
    "        return False\n",
    "    for i in range(2, int(n**0.5) + 1): \n",
    "        if n % i == 0: \n",
    "            return False\n",
    "    return True  \n",
    "\n",
    "# Define a list of numbers to check\n",
    "numbers = [2, 3, 4, 5, 10, 11, 13, 14, 15, 16, 17, 18, 19, 20]\n",
    "\n",
    "# Check each number in the list\n",
    "for num in numbers:\n",
    "    if is_prime(num):\n",
    "        print(f\"{num} is a prime number.\")\n",
    "    else:\n",
    "        print(f\"{num} is not a prime number.\")\n"
   ]
  }
 ],
 "metadata": {
  "kernelspec": {
   "display_name": "Python 3 (ipykernel)",
   "language": "python",
   "name": "python3"
  },
  "language_info": {
   "codemirror_mode": {
    "name": "ipython",
    "version": 3
   },
   "file_extension": ".py",
   "mimetype": "text/x-python",
   "name": "python",
   "nbconvert_exporter": "python",
   "pygments_lexer": "ipython3",
   "version": "3.10.4"
  }
 },
 "nbformat": 4,
 "nbformat_minor": 5
}
